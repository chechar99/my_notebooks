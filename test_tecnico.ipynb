{
 "cells": [
  {
   "cell_type": "markdown",
   "metadata": {},
   "source": [
    "a) Implementar la función thousands_with_commas que toma un integer y devuelve un string con el numero con comas cada 3 dígitos.\n",
    "La idea del test es formatear un entero separando los miles con comas. Para lo cual vamos a probar varias funciones relativamente fáciles de encontrar en internet. La función 1 directamente la descartamos dado a que solo funciona bien en *nix con locales. "
   ]
  },
  {
   "cell_type": "code",
   "execution_count": 29,
   "metadata": {
    "collapsed": false
   },
   "outputs": [],
   "source": [
    "def thousands_with_commas_1(i):\n",
    "    import locale\n",
    "    locale.setlocale(locale.LC_ALL, 'en_US')\n",
    "    return locale.format(\"%d\", i, grouping=True)\n",
    "\n",
    "def thousands_with_commas_2(i):\n",
    "    return \"{:,}\".format(i)\n",
    "\n",
    "def thousands_with_commas_3(i):\n",
    "    s = '%d' % i\n",
    "    groups = []\n",
    "    while s and s[-1].isdigit():\n",
    "        groups.append(s[-3:])\n",
    "        s = s[:-3]\n",
    "    return s + ','.join(reversed(groups))\n",
    "\n",
    "def thousands_with_commas_4(i):\n",
    "    if type(i) not in [type(0), type(0L)]:\n",
    "        raise TypeError(\"Parameter must be an integer.\")\n",
    "    if i < 0:\n",
    "        return '-' + intWithCommas(-i)\n",
    "    result = ''\n",
    "    while i >= 1000:\n",
    "        i, r = divmod(i, 1000)\n",
    "        result = \",%03d%s\" % (r, result)\n",
    "    return \"%d%s\" % (i, result)\n",
    "\n",
    "\n",
    "\n",
    "assert thousands_with_commas_2(1234) == '1,234'\n",
    "assert thousands_with_commas_2(123456789) == '123,456,789'\n",
    "assert thousands_with_commas_2(12) == '12'\n",
    "\n",
    "assert thousands_with_commas_3(1234) == '1,234'\n",
    "assert thousands_with_commas_3(123456789) == '123,456,789'\n",
    "assert thousands_with_commas_3(12) == '12'\n",
    "\n",
    "assert thousands_with_commas_4(1234) == '1,234'\n",
    "assert thousands_with_commas_4(123456789) == '123,456,789'\n",
    "assert thousands_with_commas_4(12) == '12'\n",
    "\n"
   ]
  },
  {
   "cell_type": "markdown",
   "metadata": {},
   "source": [
    "Ahora hacemos una prueba de performance y nos da que la mejor de todas es la 2. Por lo tanto usar la version the format es la mejor opción."
   ]
  },
  {
   "cell_type": "code",
   "execution_count": 30,
   "metadata": {
    "collapsed": false
   },
   "outputs": [
    {
     "name": "stdout",
     "output_type": "stream",
     "text": [
      "The slowest run took 5.81 times longer than the fastest. This could mean that an intermediate result is being cached.\n",
      "100000 loops, best of 3: 2.7 µs per loop\n",
      "100000 loops, best of 3: 4.97 µs per loop\n",
      "100000 loops, best of 3: 4.71 µs per loop\n"
     ]
    }
   ],
   "source": [
    "import random\n",
    "#%timeit thousands_with_commas_1(random.randint(1,100000000000))\n",
    "%timeit thousands_with_commas_2(random.randint(1,100000000000))\n",
    "%timeit thousands_with_commas_3(random.randint(1,100000000000))\n",
    "%timeit thousands_with_commas_4(random.randint(1,100000000000))"
   ]
  },
  {
   "cell_type": "markdown",
   "metadata": {},
   "source": [
    "*b)* Implementar la función “annograms” que usa el archivo WORD.LST\n",
    "para devolver anagramas de la palabra dada en el parámetro “word”."
   ]
  },
  {
   "cell_type": "code",
   "execution_count": 45,
   "metadata": {
    "collapsed": false
   },
   "outputs": [
    {
     "name": "stdout",
     "output_type": "stream",
     "text": [
      "train,aintr,intar\n",
      "--\n",
      "Anagramas no encontrados para drive\n",
      "--\n",
      "python,thonpy,honpyt\n"
     ]
    }
   ],
   "source": [
    "from collections import defaultdict\n",
    "\n",
    "\n",
    "def annograms(word):\n",
    "    words = [w.rstrip() for w in open('WORD.LST')]\n",
    "    d = defaultdict(list)\n",
    "    for iword in words:\n",
    "        key = \"\".join(sorted(iword))\n",
    "        d[key].append(iword)\n",
    "        \n",
    "    results = d[\"\".join(sorted(word))]\n",
    "    if results:\n",
    "        return \",\".join(results)\n",
    "    else:\n",
    "        return \"Anagramas no encontrados para {0}\".format(word)\n",
    "    \n",
    "            \n",
    "print(annograms(\"train\"))\n",
    "print('--')\n",
    "print(annograms('drive'))\n",
    "print('--')\n",
    "print(annograms('python'))\n",
    "            \n"
   ]
  }
 ],
 "metadata": {
  "kernelspec": {
   "display_name": "Python 2",
   "language": "python",
   "name": "python2"
  },
  "language_info": {
   "codemirror_mode": {
    "name": "ipython",
    "version": 2
   },
   "file_extension": ".py",
   "mimetype": "text/x-python",
   "name": "python",
   "nbconvert_exporter": "python",
   "pygments_lexer": "ipython2",
   "version": "2.7.12"
  }
 },
 "nbformat": 4,
 "nbformat_minor": 1
}
