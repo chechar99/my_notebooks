{
 "cells": [
  {
   "cell_type": "markdown",
   "metadata": {},
   "source": [
    "***Inheritance python example***\n"
   ]
  },
  {
   "cell_type": "code",
   "execution_count": 40,
   "metadata": {},
   "outputs": [
    {
     "name": "stdout",
     "output_type": "stream",
     "text": [
      "[<__main__.Dog instance at 0x103c48cb0>]\n",
      "bark\n",
      "eat\n",
      "[<__main__.Dog instance at 0x103c48cb0>, <__main__.Cat instance at 0x103c48680>]\n",
      "miaooo\n",
      "eat\n",
      "[<__main__.Dog instance at 0x103c48cb0>]\n",
      "[<__main__.Cat instance at 0x103c48680>]\n",
      "[<__main__.Dog instance at 0x103c48cb0>, <__main__.Cat instance at 0x103c48680>]\n"
     ]
    }
   ],
   "source": [
    "class Animal():\n",
    "    animal_list = []\n",
    "\n",
    "    def __init__(self, age):\n",
    "        self.age = age\n",
    "        self.animal_list.append(self)\n",
    "        print self.animal_list\n",
    "  \n",
    "    def eat(self):\n",
    "        \"\"\"Simulate animal eating\"\"\"\n",
    "        print('eat')\n",
    "\n",
    "    @classmethod\n",
    "    def get_members(cls):\n",
    "        \"\"\"\n",
    "        Returns a list with all members of the class\n",
    "        \"\"\"\n",
    "        members = [animal for animal in Animal.animal_list if isinstance(animal, cls)]\n",
    "        return members\n",
    "\n",
    "class Dog(Animal):\n",
    "    def bark(self):\n",
    "        \"\"\"Simulate dog barking\"\"\"\n",
    "        print('bark')\n",
    "\n",
    "class Cat(Animal):\n",
    "    def miao(self):\n",
    "        print \"miaooo\"\n",
    "\n",
    "mydog = Dog(10)\n",
    "mydog.bark()\n",
    "mydog.eat()\n",
    "\n",
    "mycat = Cat(5)\n",
    "mycat.miao()\n",
    "mycat.eat()\n",
    "print Dog.get_members()\n",
    "print Cat.get_members()\n",
    "print Animal.get_members()"
   ]
  },
  {
   "cell_type": "markdown",
   "metadata": {},
   "source": [
    "Given a list of N numbers, use a single list comprehension to produce a new list that only contains those values that are:\n",
    "- even numbers, and\n",
    "- from elements in the original list that had even indices\n"
   ]
  },
  {
   "cell_type": "code",
   "execution_count": null,
   "metadata": {},
   "outputs": [],
   "source": [
    "nlist = [2,3,4,5,6,7,7,1,2,46,7, 7]\n",
    "[item[1] for item in enumerate(nlist) if item[1] % 2 != 0 and item[0] % 2 != 0]"
   ]
  }
 ],
 "metadata": {
  "kernelspec": {
   "display_name": "Python 2",
   "language": "python",
   "name": "python2"
  },
  "language_info": {
   "codemirror_mode": {
    "name": "ipython",
    "version": 2
   },
   "file_extension": ".py",
   "mimetype": "text/x-python",
   "name": "python",
   "nbconvert_exporter": "python",
   "pygments_lexer": "ipython2",
   "version": "2.7.14"
  }
 },
 "nbformat": 4,
 "nbformat_minor": 2
}
